{
  "nbformat": 4,
  "nbformat_minor": 0,
  "metadata": {
    "colab": {
      "provenance": []
    },
    "kernelspec": {
      "name": "python3",
      "display_name": "Python 3"
    },
    "language_info": {
      "name": "python"
    }
  },
  "cells": [
    {
      "cell_type": "code",
      "execution_count": null,
      "metadata": {
        "id": "zd2v2xkGVcJ0"
      },
      "outputs": [],
      "source": [
        "#TUGAS DATA MINING WEEK 4"
      ]
    },
    {
      "cell_type": "code",
      "source": [
        "#GINI\n",
        "import numpy as np\n",
        "\n",
        "# Fungsi untuk menghitung koefisien Gini\n",
        "def gini_coefficient(data):\n",
        "    # Mengurutkan data\n",
        "    data = np.sort(data)\n",
        "    n = len(data)\n",
        "\n",
        "    # Menghitung jumlah kumulatif\n",
        "    cumulative_values = np.cumsum(data)\n",
        "\n",
        "    # Menghitung koefisien Gini\n",
        "    gini_index = (2 * np.sum((np.arange(1, n + 1) * cumulative_values)) / np.sum(data) - (n + 1)) / n\n",
        "    return gini_index\n",
        "\n",
        "# Contoh data pendapatan\n",
        "pendapatan = np.array([1000, 2000, 3000, 4000, 5000])\n",
        "\n",
        "# Menghitung koefisien Gini\n",
        "gini = gini_coefficient(pendapatan)\n",
        "\n",
        "# Menampilkan hasil\n",
        "print(f\"Koefisien Gini untuk data pendapatan adalah: {gini:.4f}\")\n"
      ],
      "metadata": {
        "colab": {
          "base_uri": "https://localhost:8080/"
        },
        "id": "9T5CfpERVkPa",
        "outputId": "78444c60-8c77-4567-e7cc-ca705c52dfa5"
      },
      "execution_count": null,
      "outputs": [
        {
          "output_type": "stream",
          "name": "stdout",
          "text": [
            "Koefisien Gini untuk data pendapatan adalah: 2.5333\n"
          ]
        }
      ]
    },
    {
      "cell_type": "code",
      "source": [
        "#ENTROPY\n",
        "import numpy as np\n",
        "\n",
        "# Fungsi untuk menghitung entropi\n",
        "def calculate_entropy(probabilities):\n",
        "    # Menghilangkan probabilitas nol\n",
        "    probabilities = probabilities[probabilities > 0]\n",
        "    entropy = -np.sum(probabilities * np.log2(probabilities))\n",
        "    return entropy\n",
        "\n",
        "# Contoh distribusi probabilitas\n",
        "# Misalkan kita memiliki 4 kategori dengan probabilitas sebagai berikut:\n",
        "probabilities = np.array([0.1, 0.4, 0.4, 0.1])  # Total = 1\n",
        "\n",
        "# Menghitung entropi\n",
        "entropy_value = calculate_entropy(probabilities)\n",
        "\n",
        "# Menampilkan hasil\n",
        "print(f\"Entropi dari distribusi probabilitas adalah: {entropy_value:.4f}\")\n"
      ],
      "metadata": {
        "colab": {
          "base_uri": "https://localhost:8080/"
        },
        "id": "FtCv8sytYzk2",
        "outputId": "a8f34fcf-24f3-41c6-ea9a-255926c794a2"
      },
      "execution_count": null,
      "outputs": [
        {
          "output_type": "stream",
          "name": "stdout",
          "text": [
            "Entropi dari distribusi probabilitas adalah: 1.7219\n"
          ]
        }
      ]
    },
    {
      "cell_type": "code",
      "source": [
        "#FAKTORIAL\n",
        "\n",
        "# Fungsi untuk menghitung faktorial secara iteratif\n",
        "def faktorial_iteratif(n):\n",
        "    if n < 0:\n",
        "        return \"Faktorial tidak terdefinisi untuk bilangan negatif\"\n",
        "    hasil = 1\n",
        "    for i in range(1, n + 1):\n",
        "        hasil *= i\n",
        "    return hasil\n",
        "\n",
        "# Contoh penggunaan\n",
        "n = 5\n",
        "hasil = faktorial_iteratif(n)\n",
        "print(f\"Faktorial dari {n} adalah {hasil}\")\n"
      ],
      "metadata": {
        "colab": {
          "base_uri": "https://localhost:8080/"
        },
        "id": "ZEewlliFZBgN",
        "outputId": "45ac3ed5-851d-478e-a5b9-f36743b15a88"
      },
      "execution_count": null,
      "outputs": [
        {
          "output_type": "stream",
          "name": "stdout",
          "text": [
            "Faktorial dari 5 adalah 120\n"
          ]
        }
      ]
    },
    {
      "cell_type": "code",
      "source": [
        "#FIBONACI\n",
        "def fibonacci_rekursif(n):\n",
        "    if n == 0:  # Kasus dasar\n",
        "        return 0\n",
        "    elif n == 1:  # Kasus dasar lainnya\n",
        "        return 1\n",
        "    else:\n",
        "        return fibonacci_rekursif(n - 1) + fibonacci_rekursif(n - 2)  # Pemanggilan diri\n",
        "\n",
        "# Contoh penggunaan\n",
        "n = 6\n",
        "hasil = fibonacci_rekursif(n)\n",
        "print(f\"Fibonacci ke-{n} adalah {hasil}\")\n"
      ],
      "metadata": {
        "colab": {
          "base_uri": "https://localhost:8080/"
        },
        "id": "xcpo02xcZJ-R",
        "outputId": "f6309996-7096-426f-cd49-aef9751c1665"
      },
      "execution_count": null,
      "outputs": [
        {
          "output_type": "stream",
          "name": "stdout",
          "text": [
            "Fibonacci ke-6 adalah 8\n"
          ]
        }
      ]
    },
    {
      "cell_type": "code",
      "source": [
        "#classification error\n",
        "\n",
        "import numpy as np\n",
        "\n",
        "# Definisikan label aktual dan prediksi dari model klasifikasi\n",
        "y_actual = np.array([1, 0, 1, 1, 0, 1, 0, 0, 1, 0])  # Label yang sebenarnya\n",
        "y_pred = np.array([1, 0, 1, 0, 0, 1, 1, 0, 1, 0])    # Prediksi dari model\n",
        "\n",
        "# Menghitung jumlah salah prediksi\n",
        "salah_prediksi = np.sum(y_actual != y_pred)\n",
        "\n",
        "# Menghitung classification error\n",
        "classification_error = salah_prediksi / len(y_actual)\n",
        "\n",
        "# Menampilkan hasil\n",
        "print(f\"Jumlah salah prediksi: {salah_prediksi}\")\n",
        "print(f\"Classification Error: {classification_error:.4f}\")\n"
      ],
      "metadata": {
        "colab": {
          "base_uri": "https://localhost:8080/"
        },
        "id": "lV2igfGNaFFa",
        "outputId": "864bee32-896b-458c-8326-fb440a445cfd"
      },
      "execution_count": null,
      "outputs": [
        {
          "output_type": "stream",
          "name": "stdout",
          "text": [
            "Jumlah salah prediksi: 2\n",
            "Classification Error: 0.2000\n"
          ]
        }
      ]
    },
    {
      "cell_type": "code",
      "source": [
        "#Menghitung Pangkat Menggunakan Rekursi\n",
        "# Fungsi untuk menghitung pangkat menggunakan rekursi\n",
        "def pangkat(a, n):\n",
        "    if n == 0:  # Kasus dasar: a^0 = 1\n",
        "        return 1\n",
        "    else:\n",
        "        return a * pangkat(a, n - 1)  # Memanggil diri sendiri\n",
        "\n",
        "# Contoh penggunaan\n",
        "a = 2\n",
        "n = 4\n",
        "hasil = pangkat(a, n)\n",
        "print(f\"{a} pangkat {n} adalah {hasil}\")\n"
      ],
      "metadata": {
        "colab": {
          "base_uri": "https://localhost:8080/"
        },
        "id": "YaB0XcKHaTWU",
        "outputId": "8a81703b-69d3-4717-f60a-340177940a23"
      },
      "execution_count": null,
      "outputs": [
        {
          "output_type": "stream",
          "name": "stdout",
          "text": [
            "2 pangkat 4 adalah 16\n"
          ]
        }
      ]
    },
    {
      "cell_type": "code",
      "source": [
        "# Fungsi untuk menemukan maksimum menggunakan rekursi\n",
        "def find_max(arr, n):\n",
        "    if n == 1:  # Kasus dasar: jika hanya ada satu elemen\n",
        "        return arr[0]\n",
        "    else:\n",
        "        return max(arr[n-1], find_max(arr, n-1))  # Membandingkan elemen terakhir dengan yang lainnya\n",
        "\n",
        "# Contoh penggunaan\n",
        "arr = [3, 5, 7, 2, 8, 6]\n",
        "n = len(arr)\n",
        "hasil = find_max(arr, n)\n",
        "print(f\"Nilai maksimum dari array adalah {hasil}\")"
      ],
      "metadata": {
        "colab": {
          "base_uri": "https://localhost:8080/"
        },
        "id": "cLYT2Va9bf0t",
        "outputId": "0be74220-8bf4-4c5b-958c-271c4565eb9a"
      },
      "execution_count": null,
      "outputs": [
        {
          "output_type": "stream",
          "name": "stdout",
          "text": [
            "Nilai maksimum dari array adalah 8\n"
          ]
        }
      ]
    },
    {
      "cell_type": "code",
      "source": [
        "# Fungsi untuk menghitung jumlah elemen array menggunakan rekursi\n",
        "def sum_array(arr, n):\n",
        "    if n == 0:  # Kasus dasar: jika tidak ada elemen\n",
        "        return 0\n",
        "    else:\n",
        "        return arr[n-1] + sum_array(arr, n-1)  # Memanggil diri sendiri\n",
        "\n",
        "# Contoh penggunaan\n",
        "arr = [2, 4, 6, 8, 10]\n",
        "n = len(arr)\n",
        "hasil = sum_array(arr, n)\n",
        "print(f\"Jumlah elemen dalam array adalah {hasil}\")\n"
      ],
      "metadata": {
        "colab": {
          "base_uri": "https://localhost:8080/"
        },
        "id": "Z6Smy8VSdFG3",
        "outputId": "f0aee8de-ab52-4c25-f236-91300bb5e740"
      },
      "execution_count": null,
      "outputs": [
        {
          "output_type": "stream",
          "name": "stdout",
          "text": [
            "Jumlah elemen dalam array adalah 30\n"
          ]
        }
      ]
    },
    {
      "cell_type": "code",
      "source": [],
      "metadata": {
        "id": "qvHFuVskdJZZ"
      },
      "execution_count": null,
      "outputs": []
    }
  ]
}